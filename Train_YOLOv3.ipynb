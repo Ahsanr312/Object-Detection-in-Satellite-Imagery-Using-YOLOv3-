{
  "nbformat": 4,
  "nbformat_minor": 0,
  "metadata": {
    "colab": {
      "name": "Train_YoloV3 .ipynb",
      "provenance": [],
      "collapsed_sections": []
    },
    "kernelspec": {
      "name": "python3",
      "display_name": "Python 3"
    },
    "accelerator": "GPU"
  },
  "cells": [
    {
      "cell_type": "markdown",
      "metadata": {
        "id": "wHBQcQzjD6HJ"
      },
      "source": [
        "**Connect google drive**"
      ]
    },
    {
      "cell_type": "code",
      "metadata": {
        "id": "z__ukCvKdZzj"
      },
      "source": [
        "# To Check GPU\n",
        "!nvidia-smi"
      ],
      "execution_count": null,
      "outputs": []
    },
    {
      "cell_type": "code",
      "metadata": {
        "id": "0w28JOBC3_ye"
      },
      "source": [
        "# For mounting Drive to Google Colab\n",
        "from google.colab import drive\n",
        "drive.mount('/content/drive')"
      ],
      "execution_count": null,
      "outputs": []
    },
    {
      "cell_type": "code",
      "metadata": {
        "id": "9e9ZW3sqMEPO"
      },
      "source": [
        "from google.colab import drive\n",
        "drive.mount('/content/gdrive')\n",
        "!ln -s /content/gdrive/My\\ Drive/ /mydrive\n",
        "!ls /mydrive"
      ],
      "execution_count": null,
      "outputs": []
    },
    {
      "cell_type": "markdown",
      "metadata": {
        "id": "t7utW4in4azV"
      },
      "source": [
        "**1) Clone the Darknet**\n",
        "\n"
      ]
    },
    {
      "cell_type": "code",
      "metadata": {
        "id": "e03U7Zi-qMr2"
      },
      "source": [
        "# Clone the Darknet to the Colab\n",
        "!git clone https://github.com/AlexeyAB/darknet"
      ],
      "execution_count": null,
      "outputs": []
    },
    {
      "cell_type": "markdown",
      "metadata": {
        "id": "7gDOF3mU-TAn"
      },
      "source": [
        "**2) Compile Darknet using Nvidia GPU**\n"
      ]
    },
    {
      "cell_type": "code",
      "metadata": {
        "id": "5H-Taj06Tw1c"
      },
      "source": [
        "# change makefile to have GPU and OPENCV enabled\n",
        "%cd darknet\n",
        "!sed -i 's/OPENCV=0/OPENCV=1/' Makefile\n",
        "!sed -i 's/GPU=0/GPU=1/' Makefile\n",
        "!sed -i 's/CUDNN=0/CUDNN=1/' Makefile\n",
        "!make"
      ],
      "execution_count": null,
      "outputs": []
    },
    {
      "cell_type": "markdown",
      "metadata": {
        "id": "gAOLtA_qI9vF"
      },
      "source": [
        "**3) Configure Darknet network for training YOLO V3**"
      ]
    },
    {
      "cell_type": "code",
      "metadata": {
        "id": "s-RpscgU853t"
      },
      "source": [
        "# Configuration file (cfg file)\n",
        "!cp cfg/yolov3.cfg cfg/yolov3_training.cfg"
      ],
      "execution_count": null,
      "outputs": []
    },
    {
      "cell_type": "code",
      "metadata": {
        "id": "5ZgVQRop_vwR"
      },
      "source": [
        "# Setting for single object\n",
        "\n",
        "!sed -i 's/batch=1/batch=64/' cfg/yolov3_training.cfg\n",
        "!sed -i 's/subdivisions=1/subdivisions=16/' cfg/yolov3_training.cfg\n",
        "!sed -i 's/max_batches = 500200/max_batches = 4000/' cfg/yolov3_training.cfg\n",
        "!sed -i '610 s@classes=80@classes=1@' cfg/yolov3_training.cfg\n",
        "!sed -i '696 s@classes=80@classes=1@' cfg/yolov3_training.cfg\n",
        "!sed -i '783 s@classes=80@classes=1@' cfg/yolov3_training.cfg\n",
        "!sed -i '603 s@filters=255@filters=18@' cfg/yolov3_training.cfg\n",
        "!sed -i '689 s@filters=255@filters=18@' cfg/yolov3_training.cfg\n",
        "!sed -i '776 s@filters=255@filters=18@' cfg/yolov3_training.cfg"
      ],
      "execution_count": null,
      "outputs": []
    },
    {
      "cell_type": "code",
      "metadata": {
        "id": "nscRN-X2Mr3d"
      },
      "source": [
        "# Create folder on google drive so that we can save there the weights\n",
        "!mkdir \"/mydrive/yolov3/\""
      ],
      "execution_count": null,
      "outputs": []
    },
    {
      "cell_type": "code",
      "metadata": {
        "id": "7AIBw_psIclz"
      },
      "source": [
        "# Jet is a class name\n",
        "!echo \"Jet\" > data/obj.names\n",
        "!echo -e 'classes= 1\\ntrain  = data/train.txt\\nvalid  = data/test.txt\\nnames = data/obj.names\\nbackup = /mydrive/yolov3/' > data/obj.data\n",
        "!mkdir data/obj"
      ],
      "execution_count": null,
      "outputs": []
    },
    {
      "cell_type": "code",
      "metadata": {
        "id": "eZlkzFMW7I_N"
      },
      "source": [
        "# Download weights darknet model 53\n",
        "!wget https://pjreddie.com/media/files/darknet53.conv.74"
      ],
      "execution_count": null,
      "outputs": []
    },
    {
      "cell_type": "markdown",
      "metadata": {
        "id": "9RbVKJjoncW2"
      },
      "source": [
        "**4) Extract Images**\n",
        "\n",
        "The images need to be inside a zip archive called \"images.zip\" and they need to be inside the folder \"yolov3\" on Google Drive"
      ]
    },
    {
      "cell_type": "code",
      "metadata": {
        "id": "jhb5nZvsQ_96"
      },
      "source": [
        "# Extracting custom object dataset\n",
        "!unzip /mydrive/yolov3/images.zip -d data/obj"
      ],
      "execution_count": null,
      "outputs": []
    },
    {
      "cell_type": "code",
      "metadata": {
        "id": "DGUyXxeYX0IP"
      },
      "source": [
        "# We're going to convert the class index on the .txt files. As we're working with only one class, it's supposed to be class 0.\n",
        "# If the index is different from 0 then we're going to change it.\n",
        "import glob\n",
        "import os\n",
        "import re\n",
        "\n",
        "txt_file_paths = glob.glob(r\"data/obj/*.txt\")\n",
        "for i, file_path in enumerate(txt_file_paths):\n",
        "    # get image size\n",
        "    with open(file_path, \"r\") as f_o:\n",
        "        lines = f_o.readlines()\n",
        "\n",
        "        text_converted = []\n",
        "        for line in lines:\n",
        "            print(line)\n",
        "            numbers = re.findall(\"[0-9.]+\", line)\n",
        "            print(numbers)\n",
        "            if numbers:\n",
        "\n",
        "                # Define coordinates\n",
        "                text = \"{} {} {} {} {}\".format(0, numbers[1], numbers[2], numbers[3], numbers[4])\n",
        "                text_converted.append(text)\n",
        "                print(i, file_path)\n",
        "                print(text)\n",
        "        # Write file\n",
        "        with open(file_path, 'w') as fp:\n",
        "            for item in text_converted:\n",
        "                fp.writelines(\"%s\\n\" % item)"
      ],
      "execution_count": null,
      "outputs": []
    },
    {
      "cell_type": "code",
      "metadata": {
        "id": "5I_0ht7ITMUu"
      },
      "source": [
        "import glob\n",
        "images_list = glob.glob(\"data/obj/images/*.jpg\")\n",
        "print(images_list)"
      ],
      "execution_count": null,
      "outputs": []
    },
    {
      "cell_type": "code",
      "metadata": {
        "id": "EzygoAtMSnon"
      },
      "source": [
        "#Create training.txt file, required for YOLOv3 training\n",
        "file = open(\"data/train.txt\", \"w\") \n",
        "file.write(\"\\n\".join(images_list)) \n",
        "file.close() "
      ],
      "execution_count": null,
      "outputs": []
    },
    {
      "cell_type": "code",
      "metadata": {
        "id": "lo43HxS4EtQs"
      },
      "source": [
        "# Calculates anchors for the custom dataset\n",
        "!./darknet detector calc_anchors data/obj.data -num_of_clusters 9 -width 608 -height 608"
      ],
      "execution_count": null,
      "outputs": []
    },
    {
      "cell_type": "markdown",
      "metadata": {
        "id": "CeSiuLrXoAjc"
      },
      "source": [
        "**6) Start the training**"
      ]
    },
    {
      "cell_type": "code",
      "metadata": {
        "id": "S3_g3jclUzMm"
      },
      "source": [
        "# Start the training\n",
        "!./darknet detector train data/obj.data cfg/yolov3_training.cfg darknet53.conv.74 -dont_show"
      ],
      "execution_count": null,
      "outputs": []
    },
    {
      "cell_type": "code",
      "metadata": {
        "id": "Cp3PPLJtWVck"
      },
      "source": [
        "# Training on last saved weights\n",
        "!./darknet detector train data/obj.data cfg/yolov3_training.cfg '/content/gdrive/My Drive/yolov3/yolov3_training_last.weights' -dont_show"
      ],
      "execution_count": null,
      "outputs": []
    },
    {
      "cell_type": "code",
      "metadata": {
        "id": "c5A9p7hTrQmr"
      },
      "source": [
        "# Testing on an image\n",
        "!./darknet detect cfg/yolov3_testing.cfg '/content/gdrive/My Drive/yolov3/yolov3_training_final.weights' data/Test_img.jpg"
      ],
      "execution_count": null,
      "outputs": []
    },
    {
      "cell_type": "code",
      "metadata": {
        "id": "bwTOUudBb8UG"
      },
      "source": [
        "# Mean Average Precision (mAP) Calculation\n",
        "!./darknet detector map data/obj.data cfg/yolov3_training.cfg '/content/gdrive/My Drive/yolov3/yolov3_trained.weights'"
      ],
      "execution_count": null,
      "outputs": []
    }
  ]
}